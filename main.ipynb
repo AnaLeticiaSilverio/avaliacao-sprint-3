{
 "metadata": {
  "language_info": {
   "codemirror_mode": {
    "name": "ipython",
    "version": 3
   },
   "file_extension": ".py",
   "mimetype": "text/x-python",
   "name": "python",
   "nbconvert_exporter": "python",
   "pygments_lexer": "ipython3",
   "version": "3.8.5"
  },
  "orig_nbformat": 2,
  "kernelspec": {
   "name": "python385jvsc74a57bd031f2aee4e71d21fbe5cf8b01ff0e069b9275f58929596ceb00d14d90e3e16cd6",
   "display_name": "Python 3.8.5 64-bit"
  },
  "metadata": {
   "interpreter": {
    "hash": "31f2aee4e71d21fbe5cf8b01ff0e069b9275f58929596ceb00d14d90e3e16cd6"
   }
  }
 },
 "nbformat": 4,
 "nbformat_minor": 2,
 "cells": [
  {
   "source": [
    "# Avaliação Sprint 3"
   ],
   "cell_type": "markdown",
   "metadata": {}
  },
  {
   "source": [
    "## Import das bibliotecas necessárias"
   ],
   "cell_type": "markdown",
   "metadata": {}
  },
  {
   "cell_type": "code",
   "execution_count": null,
   "metadata": {},
   "outputs": [],
   "source": [
    "import pandas as pd\n",
    "from bs4 import BeautifulSoup\n",
    "from urllib.request import urlopen\n",
    "from pymongo import MongoClient\n",
    "import spacy\n"
   ]
  },
  {
   "source": [
    "## Conexão com o banco de dados Mongo"
   ],
   "cell_type": "markdown",
   "metadata": {}
  },
  {
   "cell_type": "code",
   "execution_count": null,
   "metadata": {},
   "outputs": [],
   "source": [
    "client = MongoClient(\"localhost\", 27017)\n",
    "artigos_db = client[\"Artigos\"]\n",
    "artigos_sem_tratamento = artigos_db[\"Tratamento_1\"] #Texto cru, retirando apenas as tags HTML"
   ]
  },
  {
   "source": [
    "## Fazendo o scrapping dos artigos"
   ],
   "cell_type": "markdown",
   "metadata": {}
  },
  {
   "cell_type": "code",
   "execution_count": null,
   "metadata": {},
   "outputs": [],
   "source": [
    "urls = [\n",
    "    \"https://www1.folha.uol.com.br/banco-de-dados/2021/05/1921-transporte-de-cavalos-de-corrida-burla-proibicao-em-sao-paulo.shtml\",\n",
    "    \"https://www1.folha.uol.com.br/banco-de-dados/2021/06/1921-apos-sucesso-nos-eua-pianista-guiomar-novaes-chega-a-sao-paulo.shtml\",\n",
    "    \"https://www1.folha.uol.com.br/banco-de-dados/2021/05/1921-missao-italiana-vem-ao-brasil-buscar-ajuda-para-mutilados-na-guerra.shtml\",\n",
    "    \"https://www1.folha.uol.com.br/banco-de-dados/2021/05/1971-franca-aprova-entrada-do-reino-unido-no-mercado-comum-europeu.shtml\",\n",
    "    \"https://www1.folha.uol.com.br/banco-de-dados/2021/05/1921-empresa-de-campinas-vai-comecar-a-vender-carne-fresca-a-paulistanos.shtml\",\n",
    "    \"https://www1.folha.uol.com.br/banco-de-dados/2021/05/1921-teatro-polytheama-em-ribeirao-preto-e-destruido-por-incendio.shtml\",\n",
    "    \"https://www1.folha.uol.com.br/banco-de-dados/2021/04/1921-tracado-de-estrada-que-ligara-limeira-a-araras-e-estudado.shtml\",\n",
    "    \"https://www1.folha.uol.com.br/banco-de-dados/2021/03/1971-guerra-civil-estoura-no-paquistao-oriental-que-deseja-independencia.shtml\",\n",
    "    \"https://www1.folha.uol.com.br/banco-de-dados/2021/03/1921-estrada-vai-facilitar-ligacao-de-sao-paulo-com-triangulo-mineiro-e-goias.shtml\",\n",
    "    \"https://www1.folha.uol.com.br/banco-de-dados/2021/02/1921-autoridade-do-reino-unido-reafirma-luta-contra-movimento-irlandes.shtml\"\n",
    "] # lista das urls dos artigos\n",
    "\n"
   ]
  },
  {
   "cell_type": "code",
   "execution_count": null,
   "metadata": {},
   "outputs": [],
   "source": [
    "artigos = []\n",
    "for url in urls:\n",
    "    response = urlopen(url)\n",
    "    html = response.read().decode('utf8')\n",
    "\n",
    "    soup = BeautifulSoup(html, 'html.parser')\n",
    "\n",
    "    paragrafos_artigo = soup.find('div', {'class': 'c-news__body'}).findAll('p')\n",
    "    # Retirando as tags html dos artigos\n",
    "    # As tags html, são substituidas por uma string vazia\n",
    "    paragrafos_artigo = [str(paragrafo).replace('<p>','') for paragrafo in paragrafos_artigo]\n",
    "    paragrafos_artigo = [str(paragrafo).replace('</p>','') for paragrafo in paragrafos_artigo]\n",
    "\n",
    "    artigos.append({'texto' : paragrafos_artigo })\n"
   ]
  },
  {
   "cell_type": "code",
   "execution_count": null,
   "metadata": {},
   "outputs": [],
   "source": [
    "# Análisando se o artigo foi salvo na lista como string\n",
    "artigos[0]"
   ]
  },
  {
   "source": [
    "## Salvando os artigos no MongoDB"
   ],
   "cell_type": "markdown",
   "metadata": {}
  },
  {
   "cell_type": "code",
   "execution_count": null,
   "metadata": {},
   "outputs": [],
   "source": [
    "for artigo in artigos:\n",
    "    # Para cada artigo dentro da lista, adiciona no mongo\n",
    "    artigos_sem_tratamento.insert_one({'Artigo': artigo})"
   ]
  },
  {
   "source": [
    "## Tokenizando os artigos utilizando o spacy"
   ],
   "cell_type": "markdown",
   "metadata": {}
  },
  {
   "cell_type": "code",
   "execution_count": 32,
   "metadata": {},
   "outputs": [
    {
     "output_type": "stream",
     "name": "stdout",
     "text": [
      "[\n{\n'\ntexto\n'\n:\n[\n'\nestá\nsendo\nburlada\na\nproibição\nde\ntransportar\nanimais\nnas\nestradas\nque\nconvergem\na\nsão\npaulo\n.\n'\n,\n'\ndias\ndepois\ndo\naparecimento\nda\npeste\nbovina\nnos\narredores\nda\ncapital\n,\nas\nautoridades\nsanitárias\ntinham\nlembrado\no\ngoverno\nda\nnecessidade\nde\nestabelecer\nessa\nproibição\n.\n'\n,\n'\napesar\nda\nmedida\n,\njornais\nnoticiaram\na\nida\ne\nvinda\nde\ncavalos\nde\ncorrida\nentre\na\ncapital\ne\nsantos\n.\na\nfim\nde\nmascarar\na\nmanobra\n,\nos\nanimais\nsão\nenviados\npara\nsão\nbernardo\ne\nde\nlá\nsão\ntransportados\npara\na\noutra\ncidade\n.\n'\n,\n'\nisso\nocorre\ncomo\nse\na\ntransmissão\nda\npeste\nnão\nfosse\npossível\nnas\npatas\nde\ncavalos\ningleses\n,\nque\ncustam\ncaro\n.\n'\n]\n}\n,\n{\n'\ntexto\n'\n:\n[\n'\na\npianista\nguiomar\nnovaes\nchegou\na\nsão\npaulo\nnesta\nquinta-feira\n(\n2\n)\n.\nela\nveio\nem\num\ntrem\nnoturno\ndo\nrio\nde\njaneiro\n,\napós\nregressar\nde\numa\nviagem\ntriunfal\naos\nestados\nunidos\n,\nonde\nfoi\nconsiderada\n,\npor\nvários\ncríticos\n,\na\nmaior\nvirtuose\ndo\nmundo\n.\n'\n,\n'\nguiomar\nnovaes\ntinha\nviajado\npara\nos\neua\nem\ndezembro\nde\n1920\npara\nrealizar\numa\nsérie\nde\nconcertos\n,\nmas\nfoi\ntanto\no\nseu\nsucesso\nem\nnova\nyork\ne\nem\noutras\ncidades\nque\na\nsequência\nde\napresentações\nteve\nque\nser\nampliada\n.\n'\n,\n'\nela\ntem\nrecebido\npropostas\npara\ntocar\nem\nlondres\ne\nparis\n.\n'\n,\n'\nna\nsua\nchegada\nem\nsão\npaulo\n,\nmuitos\nadmiradores\na\nesperaram\nna\nestação\nda\nluz\n.\n'\n]\n}\n,\n{\n'\ntexto\n'\n:\n[\n'\na\nmissão\nitaliana\nde\nmutilados\nna\nguerra\nchegou\nao\nrio\nde\njaneiro\n,\nnesta\nquinta-feira\n(\n25\n)\n,\nvinda\nde\nbuenos\naires\n,\nonde\nbuscou\nangariar\ndonativos\n.\n'\n,\n'\no\ngrupo\n,\nchefiado\npelo\ntenente\ncarlo\ndelcroix\n,\nveio\nao\nbrasil\ncom\no\nmesmo\nobjetivo\n.\npor\nmeio\nde\nconferências\ne\nde\noutras\natividades\n,\nvai\ntentar\narrecadar\nfundos\npara\nminorar\no\nsofrimento\ndos\nferidos\nno\nconflito\n.\n'\n,\n'\nelevado\nnúmero\nde\nmembros\nda\ncolônia\nitaliana\nno\nrio\ncompareceu\nao\ndesembarque\nda\nmissão\n.\nvárias\nfestas\ndevem\nser\nfeitas\n.\n'\n,\n'\nno\ninício\nde\njunho\n,\no\ngrupo\nembarcará\npara\nsão\npaulo\n,\nonde\ntambém\nse\nprepara\numa\nfestiva\nrecepção\n.\n'\n]\n}\n,\n{\n'\ntexto\n'\n:\n[\n'\na\nfrança\ndeu\no\nseu\n“\nsim\n”\npara\no\ningresso\ndo\nreino\nunido\nno\nmercado\ncomum\neuropeu\n,\ndepois\nde\ndez\nhoras\nde\nconversações\nentre\no\npresidente\nfrancês\n,\ngeorges\npompidou\n,\ne\no\nprimeiro-ministro\nbritânico\n,\nedward\nheath\n.\n'\n,\n'\na\nentrada\npode\nser\nconcretizada\njá\nno\npróximo\nmês\n.\n'\n,\n'\no\ncomunicado\n,\ncom\na\ndeclaração\nconjunta\n,\nafirma\nque\nmuitos\npontos\nde\nvista\nsão\nsuficientes\npróximos\nque\nnão\nhá\npessimismo\n.\n'\n,\n'\no\nmercado\ncomum\neuropeu\né\nformado\npela\nalemanha\nocidental\n,\nbélgica\n,\nitália\n,\nholanda\n,\nluxemburgo\ne\nfrança\n.\n'\n,\n'\nnoruega\n,\ndinamarca\ne\nirlanda\ntambém\nambicionam\nentrar\nno\nbloco\n.\n'\n]\n}\n,\n{\n'\ntexto\n'\n:\n[\n'\numa\nempresa\nparticular\n,\nde\ncampinas\n,\nvai\npassar\na\nvender\ncarne\nfresca\npara\nos\nmoradores\nda\ncidade\nde\nsão\npaulo\na\npartir\ndesta\nterça-feira\n(\n10\n)\n.\n'\n,\n'\npor\ncausa\nda\npeste\nbovina\n,\na\npopulação\nda\ncapital\nvinha\nsendo\nabastecida\ncom\ncarnes\napenas\ncongeladas\nou\nfrigorificadas\n.\nno\nentanto\n,\nmuitos\nnão\ngostam\nde\ncomprar\nassim\ne\nreclamam\nda\nqualidade\n.\nalém\ndisso\n,\no\npreço\nestá\nelevado\n.\n'\n,\n'\no\nfato\né\nque\no\npaulistano\nacabou\nreduzindo\no\nconsumo\nnesse\nperíodo\n.\n'\n,\n'\nisso\ninduziu\na\nempresa\nfigueiredo\n&\namp\n;\ncia\na\npreparar\num\nplano\npara\ntransportar\na\ncarne\npara\nsão\npaulo\nno\nmesmo\ndia\ndo\nabate\n.\n'\n]\n}\n,\n{\n'\ntexto\n'\n:\n[\n'\nem\nribeirão\npreto\n(\nsp\n)\n,\num\nviolento\nincêndio\nna\nmanhã\nde\nsegunda-feira\n(\n16\n)\ndestruiu\no\nteatro\npolytheama\n,\nconstruído\nde\nmadeira\ne\nque\nfora\ncondenado\npelas\nautoridades\nsanitárias\nmunicipais\n.\nporém\n,\nainda\nfuncionava\n,\ngraças\na\num\nmandado\nde\nmanutenção\nde\nposse\nrequerido\npor\nseu\nproprietário\n,\nevaristo\nsilva\n.\n'\n,\n'\nos\nprédios\ncontínuos\nsofreram\ncom\no\nfogo\n,\ndanificando\nvárias\ncasas\ncomerciais\n,\ncomo\na\nfarmácia\nandrade\n.\n'\n,\n'\n\\u200bo\ncorpo\nde\nbombeiros\nportou-se\ncom\nheroísmo\nna\nextinção\ndo\nfogo\n,\ntendo\nconseguido\nisolar\na\nsua\nação\ndevastadora\n.\n'\n,\n'\nno\nentanto\n,\nrestou\napenas\num\nmonte\nde\ncinzas\ndo\npolytheama\n.\n'\n]\n}\n,\n{\n'\ntexto\n'\n:\n[\n'\nbuscar\ndecidir\nqual\ntraçado\ndeverá\nseguir\na\nrodovia\npara\nligar\nlimeira\na\nararas\n,\nno\ninterior\nde\nsão\npaulo\n.\nesse\nfoi\num\ndos\nobjetivos\nda\nviagem\nde\ndois\ndiretores\nda\nassociação\npermanente\nde\nestradas\nde\nrodagem\npela\nregião\n.\n'\n,\n'\nos\ndiretores\ncarlos\naugusto\nmonteiro\nde\nbarros\ne\ndomicio\npacheco\ne\nsilva\ntambém\nforam\nverificar\na\ncondição\ndas\nestradas\nentre\ncampinas\ne\nararas\n.\n'\n,\n'\nna\nviagem\n,\neles\npuderam\nobservar\nque\nestá\nadmirável\no\nestado\nda\nnova\nrodovia\nsão\npaulo-campinas\n(\nque\nserá\ninaugurada\nem\nmaio\n)\n.\nestão\nsendo\ncolocados\nos\nindicadores\nquilométricos\nem\ntoda\na\nsua\nextensão\n.\n'\n]\n}\n,\n{\n'\ntexto\n'\n:\n[\n'\na\nguerra\ncivil\neclodiu\nnesta\nsexta-feira\n(\n26\n)\nno\npaquistão\noriental\n(\nque\npassará\na\nse\nchamar\nbangladesh\n)\n.\na\nregião\nestá\nreivindicando\na\nsua\nindependência\n.\n'\n,\n'\no\npresidente\ndo\npaquistão\n,\nyahya\nkhan\n,\ntinha\ndado\nordens\npara\no\nexército\nocupar\ne\nprender\no\nxeque\nmujibur\nrahman\n,\nlíder\nda\nprincipal\norganização\npolítica\ndaquela\nregião\n,\na\nliga\nawami\n.\n'\n,\n'\ndez\nmil\nsoldados\nforam\nenviados\npara\nlá\n.\nenquanto\neles\ndesembarcavam\n,\nrahman\nproclamava\na\nindependência\ndo\npaquistão\noriental\ne\nfazia\num\napelo\npara\na\nonu\ne\npara\noutros\npaíses\na\najudar\nna\nluta\ncontra\na\n“\nrepressão\npaquistanesa\n”\n.\n'\n]\n}\n,\n{\n'\ntexto\n'\n:\n[\n'\nhá\ntempos\nque\na\ncompanhia\npaulista\nde\nestradas\nde\nferro\nalimentava\no\npropósito\nde\nligar\no\nponto\nterminal\nde\nsuas\nlinhas\nem\nbarretos\n(\nsp\n)\nà\nbarranca\ndo\nrio\ngrande\n,\nservindo-se\nda\nponte\nque\no\ngoverno\npaulista\npretende\nconstruir\nnaquele\nrio\n.\n'\n,\n'\nassim\n,\nbarretos\nestaria\nligado\npor\numa\nexcelente\nestrada\nde\nrodagem\na\nfrutal\n(\nmg\n)\n,\nfacilitando\no\nacesso\nà\nvasta\ne\nrica\nregião\ndo\ntriângulo\nmineiro\ne\nao\nsudoeste\ngoiano\n.\n'\n,\n'\nesse\nprojeto\nteve\no\nassentimento\nda\nadministração\nda\ncompanhia\n,\nque\njá\nrequereu\ndo\ngoverno\na\nnecessária\nlicença\npara\nlevar\na\ntermo\na\niniciativa\n.\nem\npouco\ntempo\n,\nesse\nmelhoramento\ndeve\nser\nfeito\n.\n'\n]\n}\n,\n{\n'\ntexto\n'\n:\n[\n'\no\nparlamento\nbritânico\ndiscutiu\nas\nprovidências\ntomadas\npelo\ngoverno\ndo\nreino\nunido\npara\nenfrentar\nas\ncampanhas\nna\nirlanda\n(\nna\nguerra\nde\nindependência\ndaquele\npaís\n)\n.\n'\n,\n'\nsegundo\no\nsecretário\nbritânico\nde\nestado\npara\na\nirlanda\n,\nhamar\ngreenwood\n,\num\ndos\nindícios\nda\nmelhoria\nda\nsituação\nna\nilha\nvizinha\nrepousa\nno\nfuncionamento\nregular\ndos\ntribunais\ncivis\n,\ncuja\nação\nestava\nparalisada\nhavia\nalgum\ntempo\npor\ncausa\nde\nameaças\n.\n'\n,\n'\no\nsecretário\nafirmou\nainda\nque\na\nação\nde\nrevoltosos\nvisa\nintimidar\no\npovo\ninglês\n.\ntal\nobjetivo\nestaria\ndescrito\nem\num\ndocumento\napreendido\nna\ncasa\nde\num\nde\nseus\nlíderes\n.\nnos\nplanos\nde\nataque\nestariam\no\nafundamento\nde\ngrandes\nnavios\n,\ndestruição\nde\nredes\ntelefônicas\ne\ntelegráficas\n,\nexplosões\nem\nminas\nde\ncarvão\n,\nalém\nde\nmassacre\ne\nperseguição\n.\n'\n,\n'\ngreenwood\ndisse\ntambém\nque\n,\nenquanto\no\nmovimento\nirlandês\nfor\norientado\npor\nindivíduos\nsanguinários\n,\no\ngoverno\nnão\ntem\noutro\ncaminho\na\nseguir\na\nnão\nser\ncombatê-lo\nsem\ntrégua\n.\n'\n]\n}\n]\n"
     ]
    }
   ],
   "source": [
    "nlp = spacy.load(\"pt_core_news_sm\")\n",
    "\n",
    "doc = nlp(str(artigos))\n",
    "    \n",
    "for palavra_token in doc: # transformando cada palavra dos artigos em token\n",
    "    palavra_token = str(palavra_token).lower() # transformando as palavras dos artigos em minusculo\n",
    "    print(palavra_token)"
   ]
  },
  {
   "cell_type": "code",
   "execution_count": null,
   "metadata": {},
   "outputs": [],
   "source": []
  }
 ]
}